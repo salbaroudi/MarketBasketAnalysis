{
 "cells": [
  {
   "cell_type": "markdown",
   "metadata": {},
   "source": [
    "# Association Rules:\n"
   ]
  },
  {
   "cell_type": "markdown",
   "metadata": {},
   "source": [
    "iLet T be the set of all transactions. \n",
    "Let $x_{i}$ be items in the set of all items, I. \n",
    "Let X,Y,Z... be items sets (not empty), that contain some subset of x$_{i}$'s from I.\n",
    "\n",
    "**Support Count Function**, defined as $\\sigma(X) = \\{ t_{i} \\vert X \\in t_{i}, t_{i} \\in T  \\}$. Note that when we count each transaction, *X must be contained in its entirety*.\n",
    "\n",
    "**Set Count**: Define $\\vert X \\vert$ to be a count of the number of elements in the given set.\n",
    "\n",
    "**Association Rule:** $X \\rightarrow Y$: An implication, where X,Y $\\subseteq$ I and X $\\cap$ Y = $\\emptyset$. How is this an \"implication\"? Recall that a Set Theory Implication is one where X $\\subseteq$ Y. This means that X is contained in Y, and for all points that satisfy this set. It cannot be the case that we find a point in X that is not in Y (Here, $\\mathbb{T} \\rightarrow \\mathbb{F}$, not possible). For our Association Rule, (!!!)"
   ]
  },
  {
   "cell_type": "markdown",
   "metadata": {},
   "source": [
    "## Strength/Co-Occurence Measures:"
   ]
  },
  {
   "cell_type": "markdown",
   "metadata": {},
   "source": [
    "*Note:* Let $\\vert T \\vert = N$\n",
    "\n",
    "### Support (of an Itemset): \n",
    "\n",
    "$$s(X) = \\frac{\\sigma(X)}{N} $$.\n",
    "\n",
    "- Or, proportion of transactions in which itemset X occurs\n",
    "- Range: (0,1)\n",
    "- In general, for $\\vert X_{i} \\vert > \\vert X_{j} \\vert$, $s(X_{i}) \\leq s(X_{j})$. As our set X increases in size, the set of transactions that contain it entirely must stay the same, or shrink.\n",
    "\n",
    "### Support (of a Rule): \n",
    "\n",
    "$$s(X \\rightarrow Y) = \\frac{\\sigma(X \\cup Y)}{N} $$.\n",
    "\n",
    "- Or, proportion of transactions in which $Z = X \\cup  Y$ occur.\n",
    "- Range: (0,1)\n",
    "- Again, for $\\vert Z_{i} \\vert > \\vert Z_{j} \\vert$, $s(Z_{i}) \\leq s(Z_{j})$.\n",
    "- Practically, Support is used to determine if our rule is just a random occurence, or actually something to consider (!!!). A *strong* rule is one that has relatively high support.\n",
    "\n",
    "\n",
    "### Confidence:\n",
    "\n",
    "$$ c(X \\rightarrow Y) = \\frac{\\sigma(X \\cup Y)}{\\sigma(X)} = \\frac{s(X \\rightarrow Y)}{s(X)} $$\n",
    "\n",
    "- Or, the proportion of transactions containing X and Y, over the proportion of transactions containing X. \n",
    "\n",
    "- Range: (0,1)\n",
    "-  Measure of Reliability that Y is likely to be present in transactions that contain X. Because Confidence is rarely 1, it can be the case that Y is present but not X. **X -> Y should not be thought of as a set/logical implication, because of this. (there can be transactions where X occurs, but not Y - for set implication, this is not possible).**\n",
    "- **Claim**: Confidence provides an estimate for conditional probability. Note that we defined X $\\cap$ Y = $\\emptyset$, and since P(X $\\vert$ Y) = P(XY) / P(Y) = 0, this doesn't initially make sense. But note that our X $\\cup$ Y when used in support calculations. Generally, P(X $\\cup$ Y) >= P(X $\\cap$ Y), so this provides an **overestimate** of conditional probability.\n",
    "- The usual comment: correlation does not apply causation applies here. A rule that has high confidence indicates a *correlation, or co-occurence* between two sets. \n",
    "\n",
    "\n"
   ]
  },
  {
   "cell_type": "markdown",
   "metadata": {},
   "source": [
    "## Objective Interest Measures"
   ]
  },
  {
   "cell_type": "markdown",
   "metadata": {},
   "source": [
    "These are measures that use transactional data to rank different rules. These measures provide statistical information, and are considered to be domain independent (don't need special/expert information to make judgements). \n",
    "\n",
    "One limitation of this method, is that a user must specify thresholds to allow for a cutoff of ranked rules. There is no rule on what cutoff one should choose - and rules for this may require domain knowledge. \n",
    "\n",
    "The usual approach is to couple support and confidence together, to rank the best rules. These approaches have limitations however, as discussed below.\n",
    "\n",
    "### Interpreting 2-Term Rules with Contingency Table:\n",
    "\n",
    "Given $\\{A\\} \\rightarrow \\{B\\}$, we can form the following contingency table:\n",
    "\n",
    "CT | B | $\\bar{B}$ | Marg(A)\n",
    "--- | --- | --- | ---\n",
    "**A** | f$_{11}$ | f$_{10}$ | f$_{1+}$\n",
    "**$\\bar{A}$** | f$_{01}$ | f$_{11}$ | f$_{0+}$\n",
    "**Marg(B)** | f$_{+1}$ | f$_{+0}$ | N\n",
    "\n",
    "\n",
    "Define:\n",
    "\n",
    "- Support: $\\frac{f_{11}}{N}$\n",
    "- Confidence: $\\frac{f_{11}}{f_{1+}}$\n",
    "- Lift: $\\frac{f_{11}}{}$\n",
    "\n",
    "Probabilistic Interpretation:\n",
    "- Support is the probability that two itemsets occur together in a set of transactions.\n",
    "- Confidence is a conditional probability measure.\n",
    "- Lift measures the correlation between two itemsets.\n",
    "\n",
    "### Examples when Confidence and Lift Fail:\n",
    "\n",
    "#### Example 1 (over-estimate): $\\{Tea\\} \\rightarrow \\{Coffee\\}$\n",
    "\n",
    "CT | Coffee | $\\bar{Coffee}$ | Marg(A)\n",
    "--- | --- | --- | ---\n",
    "**Tea** | 150 | 50 | 200\n",
    "**$\\bar{Tea}$** | 650 | 150 | 800\n",
    "**Marg(B)** | 800 | 200 | 1000\n",
    "\n",
    "Here, we see that s(T -> C) = 150/100 = 15%. Confidence is 150/200 = 75%. These are decent numbers. On closer inspection however, 80% of our sample drink coffee. Yet, for all Tea Drinkers, only 75% drink coffee. So this suggests that tea is negatively associated with coffee.\n",
    "\n",
    "#### Example 2 (underestimate): $\\{Tea\\} \\rightarrow \\{Honey\\}$\n",
    "\n",
    "CT | Honey | $\\bar{Honey}$ | Marg(A)\n",
    "--- | --- | --- | ---\n",
    "**Tea** | 100 | 100 | 200\n",
    "**$\\bar{Tea}$** | 20 | 780 | 800\n",
    "**Marg(B)** | 120 | 880 | 1000\n",
    "\n",
    "Here, we have a rule support of 10%, and confidence of 50%. Yet, tea is very strongly associated with honey (positive relationship). Note that 12% of the sample uses honey, and 100/120 honey users drink tea. Conversely, the number of people who don't use honey is 88%. \n",
    "\n",
    "Both examples illustrate that support and confidence do not measure correlation between two variables. There are many ways to do this. Such as with Lift:\n",
    "\n",
    "**Lift**: l($A \\rightarrow B) $ = $\\frac{s(A,B)}{s(A) x s(B)}$\n",
    "\n",
    "Lift is an estimate of correlation. Recall that A and B are indepedent if P(AB) = P(A) x P(B). Since support is just a measure of probability an itemset occurs in a sample, we can define this in terms of support: $s_{\\perp} = s(A)s(B)$. Then **lift is a ratio of joint rule support, over indepenently calculated rule support.**\n",
    "\n",
    "Calculating Independence with Contingency Values:\n",
    "\n",
    "$$ s(AB) = s(A)s(B) \\rightarrow \\frac{f_{11}}{N} = \\frac{f_{1+}f_{+1}}{N^{2}} \\rightarrow f_{11} = \\frac{f_{1+}f_{+1}}{N} $$\n",
    "\n",
    "Interpretation:\n",
    "\n",
    "- Lift = 1: Then s(AB) = s(A)s(B). This means our two itemsets are independent.\n",
    "\n",
    "- Lift > 1: Then s(AB) > s(A)s(B). A positive correlation exists between A and B.\n",
    "\n",
    "- Lift < 1: Then s(AB) < s(A)s(B). A negative correlation exists between A and B."
   ]
  },
  {
   "cell_type": "markdown",
   "metadata": {},
   "source": [
    "### Other Measures:\n",
    "\n",
    "**Conviction:** $$ cv(A \\rightarrow B) = \\frac{1 - s(B)}{1 - c(A,B)} $$\n",
    "\n",
    "This is another measure of the strength of implication. The higher the number, the stronger the implication. \n",
    "\n",
    "- Range: (0,$\\infty$)\n",
    "\n",
    "- Non-Commutative: cv(A,B) $\\neq$ cv(B,A)\n",
    "\n",
    "- If A,B are independent, then 1.\n",
    "\n",
    "- If full confidence (in implication), value is infinite.\n",
    "\n",
    "**Leverage:** $$lev(A \\rightarrow B) = s(A \\rightarrow B) - s(A)s(B) $$\n",
    "\n",
    "Measures the difference between joint support, and independent support calculation. What else does it measure? Degree of counting overlap between joint and independent terms?\n",
    "\n",
    "- Range: (-1,1)\n",
    "\n",
    "- = 0 when A and B are independent.\n",
    "\n",
    "-    > 0 indicates positive relationship\n",
    "\n",
    "- < 0 indicates negative relationship\n"
   ]
  },
  {
   "cell_type": "code",
   "execution_count": null,
   "metadata": {},
   "outputs": [],
   "source": []
  },
  {
   "cell_type": "code",
   "execution_count": null,
   "metadata": {},
   "outputs": [],
   "source": []
  },
  {
   "cell_type": "code",
   "execution_count": null,
   "metadata": {},
   "outputs": [],
   "source": []
  },
  {
   "cell_type": "code",
   "execution_count": null,
   "metadata": {},
   "outputs": [],
   "source": []
  },
  {
   "cell_type": "code",
   "execution_count": null,
   "metadata": {},
   "outputs": [],
   "source": []
  },
  {
   "cell_type": "code",
   "execution_count": null,
   "metadata": {},
   "outputs": [],
   "source": []
  },
  {
   "cell_type": "code",
   "execution_count": null,
   "metadata": {},
   "outputs": [],
   "source": []
  },
  {
   "cell_type": "markdown",
   "metadata": {},
   "source": [
    "## Code:"
   ]
  },
  {
   "cell_type": "code",
   "execution_count": 4,
   "metadata": {},
   "outputs": [],
   "source": [
    "#Imports\n",
    "import pandas as pd\n",
    "from mlxtend.frequent_patterns import apriori\n",
    "from mlxtend.frequent_patterns import association_rules\n",
    "import altair as alt\n",
    "import pyvis"
   ]
  },
  {
   "cell_type": "code",
   "execution_count": 5,
   "metadata": {},
   "outputs": [],
   "source": [
    "#Standard Settings:\n",
    "from IPython.core.interactiveshell import InteractiveShell\n",
    "InteractiveShell.ast_node_interactivity = \"all\"\n",
    "alt.renderers.enable('notebook')\n",
    "alt.data_transformers.enable('default', max_rows=None)\n",
    "%matplotlib inline \n",
    "pd.set_option('display.max_rows', 100)\n",
    "pd.set_option('display.max_columns', 40)\n",
    "pd.set_option('display.width', 1000)"
   ]
  },
  {
   "cell_type": "markdown",
   "metadata": {},
   "source": [
    "### Support Functions:"
   ]
  },
  {
   "cell_type": "code",
   "execution_count": 10,
   "metadata": {},
   "outputs": [],
   "source": [
    "def loadcleandata(cty):\n",
    "    df = pd.read_excel('./data/online_retail.xlsx') #Why did a 20MB file take 1min to load??\n",
    "    df['Description'] = df['Description'].str.strip()\n",
    "    df.dropna(axis=0, subset=['InvoiceNo'], inplace=True)\n",
    "    df['InvoiceNo'] = df['InvoiceNo'].astype('str')\n",
    "    df = df[~df['InvoiceNo'].str.contains('C')]    \n",
    "    \n",
    "    basket = (df[df['Country'] ==cty].groupby(['InvoiceNo', 'Description'])[\"Quantity\"])\n",
    "    basket = basket.sum().unstack().reset_index().fillna(0).set_index('InvoiceNo') \n",
    "    basket_sets = basket.applymap(encode_units) \n",
    "    basket_sets.drop('POSTAGE', inplace=True, axis=1)\n",
    "    return basket_sets\n",
    "\n",
    "    \n",
    "def encode_units(x):\n",
    "    if x <= 0:\n",
    "        return 0\n",
    "    if x >= 1:\n",
    "        return 1\n",
    "\n",
    "\n",
    "\n",
    "#Note, you still need to sort the DF of rules that you get.\n",
    "\n",
    "def getrules(bsets,minsup,met):\n",
    "    frequent_itemsets = apriori(bsets, min_support=minsup, use_colnames=True)\n",
    "    rules = association_rules(frequent_itemsets, metric=met, min_threshold=1)\n",
    "    return rules"
   ]
  },
  {
   "cell_type": "code",
   "execution_count": 7,
   "metadata": {},
   "outputs": [],
   "source": [
    "df = loadcleandata(\"Germany\")"
   ]
  },
  {
   "cell_type": "code",
   "execution_count": 11,
   "metadata": {},
   "outputs": [],
   "source": [
    "rules = getrules(df,0.05,\"lift\") #Do you even..."
   ]
  },
  {
   "cell_type": "code",
   "execution_count": 14,
   "metadata": {},
   "outputs": [
    {
     "data": {
      "text/html": [
       "<div>\n",
       "<style scoped>\n",
       "    .dataframe tbody tr th:only-of-type {\n",
       "        vertical-align: middle;\n",
       "    }\n",
       "\n",
       "    .dataframe tbody tr th {\n",
       "        vertical-align: top;\n",
       "    }\n",
       "\n",
       "    .dataframe thead th {\n",
       "        text-align: right;\n",
       "    }\n",
       "</style>\n",
       "<table border=\"1\" class=\"dataframe\">\n",
       "  <thead>\n",
       "    <tr style=\"text-align: right;\">\n",
       "      <th></th>\n",
       "      <th>antecedents</th>\n",
       "      <th>consequents</th>\n",
       "      <th>antecedent support</th>\n",
       "      <th>consequent support</th>\n",
       "      <th>support</th>\n",
       "      <th>confidence</th>\n",
       "      <th>lift</th>\n",
       "      <th>leverage</th>\n",
       "      <th>conviction</th>\n",
       "    </tr>\n",
       "  </thead>\n",
       "  <tbody>\n",
       "    <tr>\n",
       "      <th>11</th>\n",
       "      <td>(RED RETROSPOT CHARLOTTE BAG)</td>\n",
       "      <td>(WOODLAND CHARLOTTE BAG)</td>\n",
       "      <td>0.070022</td>\n",
       "      <td>0.126915</td>\n",
       "      <td>0.059081</td>\n",
       "      <td>0.843750</td>\n",
       "      <td>6.648168</td>\n",
       "      <td>0.050194</td>\n",
       "      <td>5.587746</td>\n",
       "    </tr>\n",
       "    <tr>\n",
       "      <th>12</th>\n",
       "      <td>(ROUND SNACK BOXES SET OF 4 FRUITS)</td>\n",
       "      <td>(ROUND SNACK BOXES SET OF4 WOODLAND)</td>\n",
       "      <td>0.157549</td>\n",
       "      <td>0.245077</td>\n",
       "      <td>0.131291</td>\n",
       "      <td>0.833333</td>\n",
       "      <td>3.400298</td>\n",
       "      <td>0.092679</td>\n",
       "      <td>4.529540</td>\n",
       "    </tr>\n",
       "    <tr>\n",
       "      <th>14</th>\n",
       "      <td>(SPACEBOY LUNCH BOX)</td>\n",
       "      <td>(ROUND SNACK BOXES SET OF4 WOODLAND)</td>\n",
       "      <td>0.102845</td>\n",
       "      <td>0.245077</td>\n",
       "      <td>0.070022</td>\n",
       "      <td>0.680851</td>\n",
       "      <td>2.778116</td>\n",
       "      <td>0.044817</td>\n",
       "      <td>2.365427</td>\n",
       "    </tr>\n",
       "    <tr>\n",
       "      <th>1</th>\n",
       "      <td>(PLASTERS IN TIN CIRCUS PARADE)</td>\n",
       "      <td>(PLASTERS IN TIN WOODLAND ANIMALS)</td>\n",
       "      <td>0.115974</td>\n",
       "      <td>0.137856</td>\n",
       "      <td>0.067834</td>\n",
       "      <td>0.584906</td>\n",
       "      <td>4.242887</td>\n",
       "      <td>0.051846</td>\n",
       "      <td>2.076984</td>\n",
       "    </tr>\n",
       "    <tr>\n",
       "      <th>6</th>\n",
       "      <td>(PLASTERS IN TIN SPACEBOY)</td>\n",
       "      <td>(PLASTERS IN TIN WOODLAND ANIMALS)</td>\n",
       "      <td>0.107221</td>\n",
       "      <td>0.137856</td>\n",
       "      <td>0.061269</td>\n",
       "      <td>0.571429</td>\n",
       "      <td>4.145125</td>\n",
       "      <td>0.046488</td>\n",
       "      <td>2.011670</td>\n",
       "    </tr>\n",
       "  </tbody>\n",
       "</table>\n",
       "</div>"
      ],
      "text/plain": [
       "                            antecedents                           consequents  antecedent support  consequent support   support  confidence      lift  leverage  conviction\n",
       "11        (RED RETROSPOT CHARLOTTE BAG)              (WOODLAND CHARLOTTE BAG)            0.070022            0.126915  0.059081    0.843750  6.648168  0.050194    5.587746\n",
       "12  (ROUND SNACK BOXES SET OF 4 FRUITS)  (ROUND SNACK BOXES SET OF4 WOODLAND)            0.157549            0.245077  0.131291    0.833333  3.400298  0.092679    4.529540\n",
       "14                 (SPACEBOY LUNCH BOX)  (ROUND SNACK BOXES SET OF4 WOODLAND)            0.102845            0.245077  0.070022    0.680851  2.778116  0.044817    2.365427\n",
       "1       (PLASTERS IN TIN CIRCUS PARADE)    (PLASTERS IN TIN WOODLAND ANIMALS)            0.115974            0.137856  0.067834    0.584906  4.242887  0.051846    2.076984\n",
       "6            (PLASTERS IN TIN SPACEBOY)    (PLASTERS IN TIN WOODLAND ANIMALS)            0.107221            0.137856  0.061269    0.571429  4.145125  0.046488    2.011670"
      ]
     },
     "execution_count": 14,
     "metadata": {},
     "output_type": "execute_result"
    }
   ],
   "source": [
    "rules.sort_values(by=\"conviction\",ascending=False).head()"
   ]
  },
  {
   "cell_type": "markdown",
   "metadata": {},
   "source": [
    "### References:\n",
    "\n",
    "1) aaa\n",
    "\n",
    "2) bbb\n"
   ]
  }
 ],
 "metadata": {
  "kernelspec": {
   "display_name": "Python 3",
   "language": "python",
   "name": "python3"
  },
  "language_info": {
   "codemirror_mode": {
    "name": "ipython",
    "version": 3
   },
   "file_extension": ".py",
   "mimetype": "text/x-python",
   "name": "python",
   "nbconvert_exporter": "python",
   "pygments_lexer": "ipython3",
   "version": "3.7.2"
  }
 },
 "nbformat": 4,
 "nbformat_minor": 2
}
