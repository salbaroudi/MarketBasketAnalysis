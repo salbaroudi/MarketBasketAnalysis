{
 "cells": [
  {
   "cell_type": "markdown",
   "metadata": {},
   "source": [
    "### Introduction:\n",
    "\n",
    "After experimenting with the **mlxtend** library and investigating different metrics for itemset rules, we can now give a basic outline of how to use Affinity Analysis to identify product rules, for store placement or sales campaigns. In general, itemsets should be found with thresholded **support**, positive/negative relationships are identified with **lift**, and the strength of the said rules are measured by **conviction**. \n",
    "\n"
   ]
  },
  {
   "cell_type": "code",
   "execution_count": null,
   "metadata": {},
   "outputs": [],
   "source": []
  },
  {
   "cell_type": "code",
   "execution_count": null,
   "metadata": {},
   "outputs": [],
   "source": []
  },
  {
   "cell_type": "markdown",
   "metadata": {},
   "source": [
    "### Usage of Apriori Algorithm to get strong rules:\n",
    "\n",
    "1) Set the support threshold low enough to get a large number of rules (say a few hundred).\n",
    "\n",
    "2) After itemsets have been mined with the apriori algorithm, Get the top X rules based on the highest lift values.\n",
    "\n",
    "3) From the top X rules, filter down further using conviction.\n",
    "\n",
    "\n",
    "There is also a pyvis graphical visualization to give an idea of the rules. Note: this algorithm chooses the rule with the stronger conviction and support, if there are bi-directional rules between two nodes."
   ]
  },
  {
   "cell_type": "code",
   "execution_count": 16,
   "metadata": {},
   "outputs": [],
   "source": [
    "from src.seanlib import *\n",
    "from mlxtend.frequent_patterns import apriori\n",
    "from mlxtend.frequent_patterns import association_rules\n",
    "from pyvis.network import Network"
   ]
  },
  {
   "cell_type": "markdown",
   "metadata": {},
   "source": [
    "### Rule Generation Code:"
   ]
  },
  {
   "cell_type": "code",
   "execution_count": null,
   "metadata": {},
   "outputs": [],
   "source": [
    "#Generation of Rules, prepping data frame\n",
    "#Signature: String -> DataFrame\n",
    "\n",
    "#Countries with more than 500 transactions. Some countries have so few that MBA is pointless.\n",
    "cities_avail = ['United Kingdom', 'France', 'Australia', 'Netherlands', 'Germany',\n",
    "       'Norway', 'EIRE', 'Switzerland', 'Spain', \n",
    "        'Portugal', 'Italy', 'Belgium', 'Channel Islands',  'Cyprus', 'Sweden']\n",
    "\n",
    "#Purpose: Given a European City, \n",
    "def loadcleandata(cty):\n",
    "    df = pd.read_excel('./data/online_retail.xlsx') #Why did a 20MB file take 1min to load??\n",
    "    df['Description'] = df['Description'].str.strip()\n",
    "    df.dropna(axis=0, subset=['InvoiceNo'], inplace=True)\n",
    "    df['InvoiceNo'] = df['InvoiceNo'].astype('str')\n",
    "    df = df[~df['InvoiceNo'].str.contains('C')]    \n",
    "    \n",
    "    basket = (df[df['Country'] ==cty].groupby(['InvoiceNo', 'Description'])[\"Quantity\"])\n",
    "    basket = basket.sum().unstack().reset_index().fillna(0).set_index('InvoiceNo') \n",
    "    basket_sets = basket.applymap(encode_units) \n",
    "    print(basket_sets.head())\n",
    "    #basket_sets.drop('POSTAGE', inplace=True, axis=1) No postage column exists in raw DF.\n",
    "    return basket_sets\n",
    "\n",
    "def encode_units(x):\n",
    "    if x <= 0:\n",
    "        return 0\n",
    "    if x >= 1:\n",
    "        return 1\n",
    "\n",
    "#Note, you still need to sort the DF of rules that you get.\n",
    "\n",
    "def getrules(bsets,minsup,met):\n",
    "    frequent_itemsets = apriori(bsets, min_support=minsup, use_colnames=True)\n",
    "    rules = association_rules(frequent_itemsets, metric=met, min_threshold=1)\n",
    "    return rules"
   ]
  },
  {
   "cell_type": "markdown",
   "metadata": {},
   "source": [
    "### Graph Generation Code:"
   ]
  },
  {
   "cell_type": "code",
   "execution_count": null,
   "metadata": {},
   "outputs": [],
   "source": [
    "#Support Functions:\n",
    "#TO DO: Investigate double arrow relationships. Are they the same strenght, or do some overlap the others?\n",
    "#Do I visualize both or the strongest one?\n",
    "\n",
    "def strends(x):\n",
    "    for y in x: #Frozensets...a weird datatype from our Apriori Algorithms. OK.\n",
    "        thestr = y\n",
    "    return thestr\n",
    "\n",
    "#Given a rules Data Frame, generate an html graph.\n",
    "def gen_graph(rules):\n",
    "    #reset index\n",
    "    rules.reset_index(inplace=True, drop=True)\n",
    "    \n",
    "    #make itemsets into mutable strings.\n",
    "    rules[\"antecedents\"] = rules[\"antecedents\"].apply(strends)\n",
    "    rules[\"consequents\"] = rules[\"consequents\"].apply(strends)\n",
    "    \n",
    "    #Adding nodes to our graph.\n",
    "    #I use the uniqueness aspects of sets, to make sure nodes are unique.\n",
    "    #aCSet = {-1}\n",
    "    #aCSet.remove(-1)\n",
    "    nodeDict = {}\n",
    "    for rowindex in rules.index: \n",
    "        fetch = rules.iloc[rowindex][\"antecedents\"]\n",
    "        if fetch not in nodeDict.keys():\n",
    "            nodeDict[fetch] = rowindex\n",
    "                    \n",
    "        fetch = rules.iloc[rowindex][\"consequents\"]\n",
    "        if fetch not in nodeDict.keys():\n",
    "            nodeDict[fetch] = rowindex\n",
    "        #aCSet.add(rules.iloc[rowindex][\"antecedents\"])\n",
    "        #aCSet.add(rules.iloc[rowindex][\"consequents\"])\n",
    "    \n",
    "    net = Network(width=\"800px\",height=\"800px\",notebook=True,directed=True)\n",
    "    \n",
    "    for itemset in list(nodeDict.keys()):\n",
    "        index = nodeDict[itemset]\n",
    "        net.add_node(itemset, value=rules.iloc[index][\"antecedent support\"])  \n",
    "       \n",
    "    for i, row in rules.iterrows():\n",
    "        if row[\"antecedents\"] != row[\"consequents\"]: \n",
    "            net.add_edge(source=row[\"antecedents\"],to=row[\"consequents\"],\n",
    "                        physics=False,value=row[\"conviction\"]*2,arrowStriketrhough=False)\n",
    "    \n",
    "    return net\n",
    "    "
   ]
  },
  {
   "cell_type": "code",
   "execution_count": null,
   "metadata": {},
   "outputs": [],
   "source": [
    "#Minimal Example of How to use code: "
   ]
  },
  {
   "cell_type": "code",
   "execution_count": 4,
   "metadata": {},
   "outputs": [],
   "source": [
    "#Load the raw dataset:\n",
    "dfOR = pd.read_excel('./data/online_retail.xlsx')\n"
   ]
  },
  {
   "cell_type": "code",
   "execution_count": 14,
   "metadata": {},
   "outputs": [],
   "source": [
    "#Get the basket_sets related to a particular country directly,\n",
    "bask_sets = loadcleandata(\"Norway\")"
   ]
  },
  {
   "cell_type": "code",
   "execution_count": 17,
   "metadata": {},
   "outputs": [
    {
     "ename": "NameError",
     "evalue": "name 'apriori' is not defined",
     "output_type": "error",
     "traceback": [
      "\u001b[0;31m---------------------------------------------------------------------------\u001b[0m",
      "\u001b[0;31mNameError\u001b[0m                                 Traceback (most recent call last)",
      "\u001b[0;32m<ipython-input-17-5c3ec8615baa>\u001b[0m in \u001b[0;36m<module>\u001b[0;34m\u001b[0m\n\u001b[1;32m      1\u001b[0m \u001b[0;31m#Getting Rules:\u001b[0m\u001b[0;34m\u001b[0m\u001b[0;34m\u001b[0m\u001b[0;34m\u001b[0m\u001b[0m\n\u001b[1;32m      2\u001b[0m \u001b[0mdf\u001b[0m \u001b[0;34m=\u001b[0m \u001b[0mloadcleandata\u001b[0m\u001b[0;34m(\u001b[0m\u001b[0;34m\"United Kingdom\"\u001b[0m\u001b[0;34m)\u001b[0m\u001b[0;34m\u001b[0m\u001b[0;34m\u001b[0m\u001b[0m\n\u001b[0;32m----> 3\u001b[0;31m \u001b[0mrules\u001b[0m \u001b[0;34m=\u001b[0m \u001b[0mgetrules\u001b[0m\u001b[0;34m(\u001b[0m\u001b[0mdf\u001b[0m\u001b[0;34m,\u001b[0m\u001b[0;36m0.05\u001b[0m\u001b[0;34m,\u001b[0m\u001b[0;34m\"lift\"\u001b[0m\u001b[0;34m)\u001b[0m \u001b[0;31m#Do you even...\u001b[0m\u001b[0;34m\u001b[0m\u001b[0;34m\u001b[0m\u001b[0m\n\u001b[0m\u001b[1;32m      4\u001b[0m \u001b[0mrules\u001b[0m\u001b[0;34m.\u001b[0m\u001b[0msort_values\u001b[0m\u001b[0;34m(\u001b[0m\u001b[0mby\u001b[0m\u001b[0;34m=\u001b[0m\u001b[0;34m[\u001b[0m\u001b[0;34m\"lift\"\u001b[0m\u001b[0;34m,\u001b[0m\u001b[0;34m\"conviction\"\u001b[0m\u001b[0;34m]\u001b[0m\u001b[0;34m,\u001b[0m\u001b[0mascending\u001b[0m\u001b[0;34m=\u001b[0m\u001b[0;32mFalse\u001b[0m\u001b[0;34m)\u001b[0m\u001b[0;34m.\u001b[0m\u001b[0mhead\u001b[0m\u001b[0;34m(\u001b[0m\u001b[0;36m10\u001b[0m\u001b[0;34m)\u001b[0m\u001b[0;34m\u001b[0m\u001b[0;34m\u001b[0m\u001b[0m\n",
      "\u001b[0;32m~/Documents/Workspace/CodeProjects/Python3/MarketBasketAnalysis/src/seanlib.py\u001b[0m in \u001b[0;36mgetrules\u001b[0;34m(bsets, minsup, met)\u001b[0m\n\u001b[1;32m    143\u001b[0m \u001b[0;34m\u001b[0m\u001b[0m\n\u001b[1;32m    144\u001b[0m \u001b[0;32mdef\u001b[0m \u001b[0mgetrules\u001b[0m\u001b[0;34m(\u001b[0m\u001b[0mbsets\u001b[0m\u001b[0;34m,\u001b[0m\u001b[0mminsup\u001b[0m\u001b[0;34m,\u001b[0m\u001b[0mmet\u001b[0m\u001b[0;34m)\u001b[0m\u001b[0;34m:\u001b[0m\u001b[0;34m\u001b[0m\u001b[0;34m\u001b[0m\u001b[0m\n\u001b[0;32m--> 145\u001b[0;31m     \u001b[0mfrequent_itemsets\u001b[0m \u001b[0;34m=\u001b[0m \u001b[0mapriori\u001b[0m\u001b[0;34m(\u001b[0m\u001b[0mbsets\u001b[0m\u001b[0;34m,\u001b[0m \u001b[0mmin_support\u001b[0m\u001b[0;34m=\u001b[0m\u001b[0mminsup\u001b[0m\u001b[0;34m,\u001b[0m \u001b[0muse_colnames\u001b[0m\u001b[0;34m=\u001b[0m\u001b[0;32mTrue\u001b[0m\u001b[0;34m)\u001b[0m\u001b[0;34m\u001b[0m\u001b[0;34m\u001b[0m\u001b[0m\n\u001b[0m\u001b[1;32m    146\u001b[0m     \u001b[0mrules\u001b[0m \u001b[0;34m=\u001b[0m \u001b[0massociation_rules\u001b[0m\u001b[0;34m(\u001b[0m\u001b[0mfrequent_itemsets\u001b[0m\u001b[0;34m,\u001b[0m \u001b[0mmetric\u001b[0m\u001b[0;34m=\u001b[0m\u001b[0mmet\u001b[0m\u001b[0;34m,\u001b[0m \u001b[0mmin_threshold\u001b[0m\u001b[0;34m=\u001b[0m\u001b[0;36m1\u001b[0m\u001b[0;34m)\u001b[0m\u001b[0;34m\u001b[0m\u001b[0;34m\u001b[0m\u001b[0m\n\u001b[1;32m    147\u001b[0m     \u001b[0;32mreturn\u001b[0m \u001b[0mrules\u001b[0m\u001b[0;34m\u001b[0m\u001b[0;34m\u001b[0m\u001b[0m\n",
      "\u001b[0;31mNameError\u001b[0m: name 'apriori' is not defined"
     ]
    }
   ],
   "source": [
    "#Getting Rules:\n",
    "df = loadcleandata(\"United Kingdom\")\n",
    "rules = getrules(df,0.05,\"lift\") #Do you even...\n",
    "rules.sort_values(by=[\"lift\",\"conviction\"],ascending=False).head(10)"
   ]
  },
  {
   "cell_type": "code",
   "execution_count": null,
   "metadata": {},
   "outputs": [],
   "source": []
  },
  {
   "cell_type": "code",
   "execution_count": null,
   "metadata": {},
   "outputs": [],
   "source": []
  },
  {
   "cell_type": "code",
   "execution_count": null,
   "metadata": {},
   "outputs": [],
   "source": []
  }
 ],
 "metadata": {
  "kernelspec": {
   "display_name": "Python 3",
   "language": "python",
   "name": "python3"
  },
  "language_info": {
   "codemirror_mode": {
    "name": "ipython",
    "version": 3
   },
   "file_extension": ".py",
   "mimetype": "text/x-python",
   "name": "python",
   "nbconvert_exporter": "python",
   "pygments_lexer": "ipython3",
   "version": "3.7.2"
  }
 },
 "nbformat": 4,
 "nbformat_minor": 2
}
