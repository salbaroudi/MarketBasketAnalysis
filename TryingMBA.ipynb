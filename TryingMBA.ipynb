{
 "cells": [
  {
   "cell_type": "code",
   "execution_count": 1,
   "metadata": {},
   "outputs": [],
   "source": [
    "#Imports\n",
    "import pandas as pd\n",
    "from mlxtend.frequent_patterns import apriori\n",
    "from mlxtend.frequent_patterns import association_rules\n",
    "import numpy as np\n",
    "import altair as alt\n",
    "import matplotlib.pyplot as plt"
   ]
  },
  {
   "cell_type": "code",
   "execution_count": 2,
   "metadata": {},
   "outputs": [],
   "source": [
    "#Standard Settings:\n",
    "from IPython.core.interactiveshell import InteractiveShell\n",
    "InteractiveShell.ast_node_interactivity = \"all\"\n",
    "alt.renderers.enable('notebook')\n",
    "alt.data_transformers.enable('default', max_rows=None)\n",
    "%matplotlib inline \n",
    "pd.set_option('display.max_rows', 100)\n",
    "pd.set_option('display.max_columns', 40)\n",
    "pd.set_option('display.width', 1000)"
   ]
  },
  {
   "cell_type": "code",
   "execution_count": 3,
   "metadata": {},
   "outputs": [
    {
     "ename": "NameError",
     "evalue": "name 'basket' is not defined",
     "output_type": "error",
     "traceback": [
      "\u001b[0;31m---------------------------------------------------------------------------\u001b[0m",
      "\u001b[0;31mNameError\u001b[0m                                 Traceback (most recent call last)",
      "\u001b[0;32m<ipython-input-3-dc29a0132aa0>\u001b[0m in \u001b[0;36m<module>\u001b[0;34m\u001b[0m\n\u001b[1;32m      1\u001b[0m \u001b[0;31m#Support Code\u001b[0m\u001b[0;34m\u001b[0m\u001b[0;34m\u001b[0m\u001b[0;34m\u001b[0m\u001b[0m\n\u001b[1;32m      2\u001b[0m \u001b[0mi\u001b[0m \u001b[0;34m=\u001b[0m \u001b[0;36m0\u001b[0m\u001b[0;34m\u001b[0m\u001b[0;34m\u001b[0m\u001b[0m\n\u001b[0;32m----> 3\u001b[0;31m \u001b[0;32mfor\u001b[0m \u001b[0mkey\u001b[0m\u001b[0;34m,\u001b[0m \u001b[0mitem\u001b[0m \u001b[0;32min\u001b[0m \u001b[0mbasket\u001b[0m\u001b[0;34m:\u001b[0m\u001b[0;34m\u001b[0m\u001b[0;34m\u001b[0m\u001b[0m\n\u001b[0m\u001b[1;32m      4\u001b[0m     \u001b[0;32mif\u001b[0m \u001b[0;34m(\u001b[0m\u001b[0mi\u001b[0m \u001b[0;34m>\u001b[0m \u001b[0;36m10\u001b[0m\u001b[0;34m)\u001b[0m\u001b[0;34m:\u001b[0m\u001b[0;34m\u001b[0m\u001b[0;34m\u001b[0m\u001b[0m\n\u001b[1;32m      5\u001b[0m           \u001b[0;32mbreak\u001b[0m\u001b[0;34m\u001b[0m\u001b[0;34m\u001b[0m\u001b[0m\n",
      "\u001b[0;31mNameError\u001b[0m: name 'basket' is not defined"
     ]
    }
   ],
   "source": [
    "#Support Code\n",
    "i = 0\n",
    "for key, item in basket:\n",
    "    if (i > 10):\n",
    "          break\n",
    "    i=i+1\n",
    "    print(str(key) + \" : \" + str(item))"
   ]
  },
  {
   "cell_type": "code",
   "execution_count": 4,
   "metadata": {},
   "outputs": [
    {
     "data": {
      "text/html": [
       "<div>\n",
       "<style scoped>\n",
       "    .dataframe tbody tr th:only-of-type {\n",
       "        vertical-align: middle;\n",
       "    }\n",
       "\n",
       "    .dataframe tbody tr th {\n",
       "        vertical-align: top;\n",
       "    }\n",
       "\n",
       "    .dataframe thead th {\n",
       "        text-align: right;\n",
       "    }\n",
       "</style>\n",
       "<table border=\"1\" class=\"dataframe\">\n",
       "  <thead>\n",
       "    <tr style=\"text-align: right;\">\n",
       "      <th></th>\n",
       "      <th>InvoiceNo</th>\n",
       "      <th>StockCode</th>\n",
       "      <th>Description</th>\n",
       "      <th>Quantity</th>\n",
       "      <th>InvoiceDate</th>\n",
       "      <th>UnitPrice</th>\n",
       "      <th>CustomerID</th>\n",
       "      <th>Country</th>\n",
       "    </tr>\n",
       "  </thead>\n",
       "  <tbody>\n",
       "    <tr>\n",
       "      <th>0</th>\n",
       "      <td>536365</td>\n",
       "      <td>85123A</td>\n",
       "      <td>WHITE HANGING HEART T-LIGHT HOLDER</td>\n",
       "      <td>6</td>\n",
       "      <td>2010-12-01 08:26:00</td>\n",
       "      <td>2.55</td>\n",
       "      <td>17850.0</td>\n",
       "      <td>United Kingdom</td>\n",
       "    </tr>\n",
       "    <tr>\n",
       "      <th>1</th>\n",
       "      <td>536365</td>\n",
       "      <td>71053</td>\n",
       "      <td>WHITE METAL LANTERN</td>\n",
       "      <td>6</td>\n",
       "      <td>2010-12-01 08:26:00</td>\n",
       "      <td>3.39</td>\n",
       "      <td>17850.0</td>\n",
       "      <td>United Kingdom</td>\n",
       "    </tr>\n",
       "    <tr>\n",
       "      <th>2</th>\n",
       "      <td>536365</td>\n",
       "      <td>84406B</td>\n",
       "      <td>CREAM CUPID HEARTS COAT HANGER</td>\n",
       "      <td>8</td>\n",
       "      <td>2010-12-01 08:26:00</td>\n",
       "      <td>2.75</td>\n",
       "      <td>17850.0</td>\n",
       "      <td>United Kingdom</td>\n",
       "    </tr>\n",
       "    <tr>\n",
       "      <th>3</th>\n",
       "      <td>536365</td>\n",
       "      <td>84029G</td>\n",
       "      <td>KNITTED UNION FLAG HOT WATER BOTTLE</td>\n",
       "      <td>6</td>\n",
       "      <td>2010-12-01 08:26:00</td>\n",
       "      <td>3.39</td>\n",
       "      <td>17850.0</td>\n",
       "      <td>United Kingdom</td>\n",
       "    </tr>\n",
       "    <tr>\n",
       "      <th>4</th>\n",
       "      <td>536365</td>\n",
       "      <td>84029E</td>\n",
       "      <td>RED WOOLLY HOTTIE WHITE HEART.</td>\n",
       "      <td>6</td>\n",
       "      <td>2010-12-01 08:26:00</td>\n",
       "      <td>3.39</td>\n",
       "      <td>17850.0</td>\n",
       "      <td>United Kingdom</td>\n",
       "    </tr>\n",
       "  </tbody>\n",
       "</table>\n",
       "</div>"
      ],
      "text/plain": [
       "  InvoiceNo StockCode                          Description  Quantity         InvoiceDate  UnitPrice  CustomerID         Country\n",
       "0    536365    85123A   WHITE HANGING HEART T-LIGHT HOLDER         6 2010-12-01 08:26:00       2.55     17850.0  United Kingdom\n",
       "1    536365     71053                  WHITE METAL LANTERN         6 2010-12-01 08:26:00       3.39     17850.0  United Kingdom\n",
       "2    536365    84406B       CREAM CUPID HEARTS COAT HANGER         8 2010-12-01 08:26:00       2.75     17850.0  United Kingdom\n",
       "3    536365    84029G  KNITTED UNION FLAG HOT WATER BOTTLE         6 2010-12-01 08:26:00       3.39     17850.0  United Kingdom\n",
       "4    536365    84029E       RED WOOLLY HOTTIE WHITE HEART.         6 2010-12-01 08:26:00       3.39     17850.0  United Kingdom"
      ]
     },
     "execution_count": 4,
     "metadata": {},
     "output_type": "execute_result"
    }
   ],
   "source": [
    "#Load Data\n",
    "df = pd.read_excel('./data/online_retail.xlsx') #Why did a 20MB file take 1min to load??\n",
    "df.head()"
   ]
  },
  {
   "cell_type": "code",
   "execution_count": 5,
   "metadata": {},
   "outputs": [],
   "source": [
    "#Data Cleanup (all at once):\n",
    "df['Description'] = df['Description'].str.strip()\n",
    "df.dropna(axis=0, subset=['InvoiceNo'], inplace=True)\n",
    "df['InvoiceNo'] = df['InvoiceNo'].astype('str')\n",
    "df = df[~df['InvoiceNo'].str.contains('C')]"
   ]
  },
  {
   "cell_type": "code",
   "execution_count": 7,
   "metadata": {},
   "outputs": [
    {
     "name": "stdout",
     "output_type": "stream",
     "text": [
      "('536370', 'ALARM CLOCK BAKELIKE GREEN') : 28    12\n",
      "Name: Quantity, dtype: int64\n",
      "('536370', 'ALARM CLOCK BAKELIKE PINK') : 26    24\n",
      "Name: Quantity, dtype: int64\n",
      "('536370', 'ALARM CLOCK BAKELIKE RED') : 27    24\n",
      "Name: Quantity, dtype: int64\n",
      "('536370', 'CHARLOTTE BAG DOLLY GIRL DESIGN') : 38    20\n",
      "Name: Quantity, dtype: int64\n",
      "('536370', 'CIRCUS PARADE LUNCH BOX') : 37    24\n",
      "Name: Quantity, dtype: int64\n",
      "('536370', 'INFLATABLE POLITICAL GLOBE') : 31    48\n",
      "Name: Quantity, dtype: int64\n",
      "('536370', 'LUNCH BOX I LOVE LONDON') : 36    24\n",
      "Name: Quantity, dtype: int64\n",
      "('536370', 'MINI JIGSAW CIRCUS PARADE') : 42    24\n",
      "Name: Quantity, dtype: int64\n",
      "('536370', 'MINI JIGSAW SPACEBOY') : 43    24\n",
      "Name: Quantity, dtype: int64\n",
      "('536370', 'MINI PAINT SET VINTAGE') : 44    36\n",
      "Name: Quantity, dtype: int64\n",
      "('536370', 'PANDA AND BUNNIES STICKER SHEET') : 29    12\n",
      "Name: Quantity, dtype: int64\n"
     ]
    },
    {
     "data": {
      "text/html": [
       "<div>\n",
       "<style scoped>\n",
       "    .dataframe tbody tr th:only-of-type {\n",
       "        vertical-align: middle;\n",
       "    }\n",
       "\n",
       "    .dataframe tbody tr th {\n",
       "        vertical-align: top;\n",
       "    }\n",
       "\n",
       "    .dataframe thead th {\n",
       "        text-align: right;\n",
       "    }\n",
       "</style>\n",
       "<table border=\"1\" class=\"dataframe\">\n",
       "  <thead>\n",
       "    <tr style=\"text-align: right;\">\n",
       "      <th></th>\n",
       "      <th>InvoiceNo</th>\n",
       "      <th>StockCode</th>\n",
       "      <th>Description</th>\n",
       "      <th>Quantity</th>\n",
       "      <th>InvoiceDate</th>\n",
       "      <th>UnitPrice</th>\n",
       "      <th>CustomerID</th>\n",
       "      <th>Country</th>\n",
       "    </tr>\n",
       "  </thead>\n",
       "  <tbody>\n",
       "    <tr>\n",
       "      <th>28</th>\n",
       "      <td>536370</td>\n",
       "      <td>22726</td>\n",
       "      <td>ALARM CLOCK BAKELIKE GREEN</td>\n",
       "      <td>12</td>\n",
       "      <td>2010-12-01 08:45:00</td>\n",
       "      <td>3.75</td>\n",
       "      <td>12583.0</td>\n",
       "      <td>France</td>\n",
       "    </tr>\n",
       "    <tr>\n",
       "      <th>149</th>\n",
       "      <td>536382</td>\n",
       "      <td>22726</td>\n",
       "      <td>ALARM CLOCK BAKELIKE GREEN</td>\n",
       "      <td>4</td>\n",
       "      <td>2010-12-01 09:45:00</td>\n",
       "      <td>3.75</td>\n",
       "      <td>16098.0</td>\n",
       "      <td>United Kingdom</td>\n",
       "    </tr>\n",
       "    <tr>\n",
       "      <th>205</th>\n",
       "      <td>536389</td>\n",
       "      <td>22726</td>\n",
       "      <td>ALARM CLOCK BAKELIKE GREEN</td>\n",
       "      <td>4</td>\n",
       "      <td>2010-12-01 10:03:00</td>\n",
       "      <td>3.75</td>\n",
       "      <td>12431.0</td>\n",
       "      <td>Australia</td>\n",
       "    </tr>\n",
       "    <tr>\n",
       "      <th>274</th>\n",
       "      <td>536395</td>\n",
       "      <td>22726</td>\n",
       "      <td>ALARM CLOCK BAKELIKE GREEN</td>\n",
       "      <td>8</td>\n",
       "      <td>2010-12-01 10:47:00</td>\n",
       "      <td>3.75</td>\n",
       "      <td>13767.0</td>\n",
       "      <td>United Kingdom</td>\n",
       "    </tr>\n",
       "    <tr>\n",
       "      <th>1226</th>\n",
       "      <td>536531</td>\n",
       "      <td>22726</td>\n",
       "      <td>ALARM CLOCK BAKELIKE GREEN</td>\n",
       "      <td>9</td>\n",
       "      <td>2010-12-01 13:23:00</td>\n",
       "      <td>3.75</td>\n",
       "      <td>15485.0</td>\n",
       "      <td>United Kingdom</td>\n",
       "    </tr>\n",
       "  </tbody>\n",
       "</table>\n",
       "</div>"
      ],
      "text/plain": [
       "     InvoiceNo StockCode                 Description  Quantity         InvoiceDate  UnitPrice  CustomerID         Country\n",
       "28      536370     22726  ALARM CLOCK BAKELIKE GREEN        12 2010-12-01 08:45:00       3.75     12583.0          France\n",
       "149     536382     22726  ALARM CLOCK BAKELIKE GREEN         4 2010-12-01 09:45:00       3.75     16098.0  United Kingdom\n",
       "205     536389     22726  ALARM CLOCK BAKELIKE GREEN         4 2010-12-01 10:03:00       3.75     12431.0       Australia\n",
       "274     536395     22726  ALARM CLOCK BAKELIKE GREEN         8 2010-12-01 10:47:00       3.75     13767.0  United Kingdom\n",
       "1226    536531     22726  ALARM CLOCK BAKELIKE GREEN         9 2010-12-01 13:23:00       3.75     15485.0  United Kingdom"
      ]
     },
     "execution_count": 7,
     "metadata": {},
     "output_type": "execute_result"
    },
    {
     "data": {
      "text/plain": [
       "InvoiceNo                          536370\n",
       "StockCode                           22726\n",
       "Description    ALARM CLOCK BAKELIKE GREEN\n",
       "Quantity                               12\n",
       "InvoiceDate           2010-12-01 08:45:00\n",
       "UnitPrice                            3.75\n",
       "CustomerID                          12583\n",
       "Country                            France\n",
       "Name: 28, dtype: object"
      ]
     },
     "execution_count": 7,
     "metadata": {},
     "output_type": "execute_result"
    }
   ],
   "source": [
    "#This is our 1-Hot encoding transformation. Lets \n",
    "#Examine it carefully.\n",
    "\n",
    "#Select all elements in France. 2-Level grouping with Invoice and Desc, for target, select quantity only\n",
    "#for mapping.\n",
    "basket = (df[df['Country'] ==\"France\"].groupby(['InvoiceNo', 'Description'])[\"Quantity\"])\n",
    "\n",
    "i = 0\n",
    "for key, item in basket:\n",
    "    if (i > 10):\n",
    "          break\n",
    "    i=i+1\n",
    "    print(str(key) + \" : \" + str(item)) # for item, first item is row index? Second is the actual value.\n",
    "\n",
    "df[df['Description'] ==\"ALARM CLOCK BAKELIKE GREEN\"].head(5)\n",
    "df.iloc[28] #Verified. 28 is just a row indicies. #Index   #value\n",
    "    \n"
   ]
  },
  {
   "cell_type": "code",
   "execution_count": 8,
   "metadata": {},
   "outputs": [],
   "source": [
    "#By summing, for 2 level indicies we just grab the quantity on the invoice.\n",
    "#By unstacking, we perform a cast/pivot and turn Descriptions into columns, with table cells as our summed values.\n",
    "#We have moved from 1 to 2 D, so most of our rows are filled with NAs. Set them to zero.\n",
    "#Reset our index, and them turn InvoiceNumber into a row index instead of a column.\n",
    "basket = basket.sum().unstack().reset_index().fillna(0).set_index('InvoiceNo') "
   ]
  },
  {
   "cell_type": "code",
   "execution_count": 9,
   "metadata": {},
   "outputs": [],
   "source": [
    "def encode_units(x):\n",
    "    if x <= 0:\n",
    "        return 0\n",
    "    if x >= 1:\n",
    "        return 1\n",
    "\n",
    "basket_sets = basket.applymap(encode_units) #apply map applies a function to every cell of a dataframe, and returns\n",
    "#a dataframe.\n",
    "basket_sets.drop('POSTAGE', inplace=True, axis=1)\n",
    "       "
   ]
  },
  {
   "cell_type": "markdown",
   "metadata": {},
   "source": [
    "### Starting Analysis:"
   ]
  },
  {
   "cell_type": "code",
   "execution_count": 10,
   "metadata": {},
   "outputs": [],
   "source": [
    "frequent_itemsets = apriori(basket_sets, min_support=0.03, use_colnames=True)\n"
   ]
  },
  {
   "cell_type": "code",
   "execution_count": 11,
   "metadata": {},
   "outputs": [
    {
     "data": {
      "text/html": [
       "<div>\n",
       "<style scoped>\n",
       "    .dataframe tbody tr th:only-of-type {\n",
       "        vertical-align: middle;\n",
       "    }\n",
       "\n",
       "    .dataframe tbody tr th {\n",
       "        vertical-align: top;\n",
       "    }\n",
       "\n",
       "    .dataframe thead th {\n",
       "        text-align: right;\n",
       "    }\n",
       "</style>\n",
       "<table border=\"1\" class=\"dataframe\">\n",
       "  <thead>\n",
       "    <tr style=\"text-align: right;\">\n",
       "      <th></th>\n",
       "      <th>support</th>\n",
       "      <th>itemsets</th>\n",
       "    </tr>\n",
       "  </thead>\n",
       "  <tbody>\n",
       "    <tr>\n",
       "      <th>0</th>\n",
       "      <td>0.030612</td>\n",
       "      <td>(10 COLOUR SPACEBOY PEN)</td>\n",
       "    </tr>\n",
       "    <tr>\n",
       "      <th>1</th>\n",
       "      <td>0.035714</td>\n",
       "      <td>(3 PIECE SPACEBOY COOKIE CUTTER SET)</td>\n",
       "    </tr>\n",
       "    <tr>\n",
       "      <th>2</th>\n",
       "      <td>0.045918</td>\n",
       "      <td>(36 PENCILS TUBE RED RETROSPOT)</td>\n",
       "    </tr>\n",
       "    <tr>\n",
       "      <th>3</th>\n",
       "      <td>0.071429</td>\n",
       "      <td>(4 TRADITIONAL SPINNING TOPS)</td>\n",
       "    </tr>\n",
       "    <tr>\n",
       "      <th>4</th>\n",
       "      <td>0.096939</td>\n",
       "      <td>(ALARM CLOCK BAKELIKE GREEN)</td>\n",
       "    </tr>\n",
       "  </tbody>\n",
       "</table>\n",
       "</div>"
      ],
      "text/plain": [
       "    support                              itemsets\n",
       "0  0.030612              (10 COLOUR SPACEBOY PEN)\n",
       "1  0.035714  (3 PIECE SPACEBOY COOKIE CUTTER SET)\n",
       "2  0.045918       (36 PENCILS TUBE RED RETROSPOT)\n",
       "3  0.071429         (4 TRADITIONAL SPINNING TOPS)\n",
       "4  0.096939          (ALARM CLOCK BAKELIKE GREEN)"
      ]
     },
     "execution_count": 11,
     "metadata": {},
     "output_type": "execute_result"
    }
   ],
   "source": [
    "frequent_itemsets.head()"
   ]
  },
  {
   "cell_type": "code",
   "execution_count": 13,
   "metadata": {},
   "outputs": [
    {
     "data": {
      "text/html": [
       "<div>\n",
       "<style scoped>\n",
       "    .dataframe tbody tr th:only-of-type {\n",
       "        vertical-align: middle;\n",
       "    }\n",
       "\n",
       "    .dataframe tbody tr th {\n",
       "        vertical-align: top;\n",
       "    }\n",
       "\n",
       "    .dataframe thead th {\n",
       "        text-align: right;\n",
       "    }\n",
       "</style>\n",
       "<table border=\"1\" class=\"dataframe\">\n",
       "  <thead>\n",
       "    <tr style=\"text-align: right;\">\n",
       "      <th></th>\n",
       "      <th>antecedents</th>\n",
       "      <th>consequents</th>\n",
       "      <th>antecedent support</th>\n",
       "      <th>consequent support</th>\n",
       "      <th>support</th>\n",
       "      <th>confidence</th>\n",
       "      <th>lift</th>\n",
       "      <th>leverage</th>\n",
       "      <th>conviction</th>\n",
       "    </tr>\n",
       "  </thead>\n",
       "  <tbody>\n",
       "    <tr>\n",
       "      <th>1068</th>\n",
       "      <td>(PACK OF 6 SKULL PAPER PLATES, SET/6 RED SPOTT...</td>\n",
       "      <td>(SET/6 RED SPOTTY PAPER PLATES)</td>\n",
       "      <td>0.033163</td>\n",
       "      <td>0.127551</td>\n",
       "      <td>0.033163</td>\n",
       "      <td>1.0</td>\n",
       "      <td>7.840000</td>\n",
       "      <td>0.028933</td>\n",
       "      <td>inf</td>\n",
       "    </tr>\n",
       "    <tr>\n",
       "      <th>1099</th>\n",
       "      <td>(PACK OF 6 SKULL PAPER CUPS, PACK OF 6 SKULL P...</td>\n",
       "      <td>(SET/6 RED SPOTTY PAPER PLATES)</td>\n",
       "      <td>0.030612</td>\n",
       "      <td>0.127551</td>\n",
       "      <td>0.030612</td>\n",
       "      <td>1.0</td>\n",
       "      <td>7.840000</td>\n",
       "      <td>0.026708</td>\n",
       "      <td>inf</td>\n",
       "    </tr>\n",
       "    <tr>\n",
       "      <th>987</th>\n",
       "      <td>(PACK OF 6 SKULL PAPER PLATES, SET/6 RED SPOTT...</td>\n",
       "      <td>(SET/6 RED SPOTTY PAPER CUPS)</td>\n",
       "      <td>0.035714</td>\n",
       "      <td>0.137755</td>\n",
       "      <td>0.035714</td>\n",
       "      <td>1.0</td>\n",
       "      <td>7.259259</td>\n",
       "      <td>0.030794</td>\n",
       "      <td>inf</td>\n",
       "    </tr>\n",
       "    <tr>\n",
       "      <th>886</th>\n",
       "      <td>(MINI PAINT SET VINTAGE, SET/6 RED SPOTTY PAPE...</td>\n",
       "      <td>(SET/6 RED SPOTTY PAPER PLATES)</td>\n",
       "      <td>0.035714</td>\n",
       "      <td>0.127551</td>\n",
       "      <td>0.035714</td>\n",
       "      <td>1.0</td>\n",
       "      <td>7.840000</td>\n",
       "      <td>0.031159</td>\n",
       "      <td>inf</td>\n",
       "    </tr>\n",
       "    <tr>\n",
       "      <th>765</th>\n",
       "      <td>(PACK OF 6 SKULL PAPER CUPS, SET/6 RED SPOTTY ...</td>\n",
       "      <td>(SET/6 RED SPOTTY PAPER CUPS)</td>\n",
       "      <td>0.038265</td>\n",
       "      <td>0.137755</td>\n",
       "      <td>0.038265</td>\n",
       "      <td>1.0</td>\n",
       "      <td>7.259259</td>\n",
       "      <td>0.032994</td>\n",
       "      <td>inf</td>\n",
       "    </tr>\n",
       "  </tbody>\n",
       "</table>\n",
       "</div>"
      ],
      "text/plain": [
       "                                            antecedents                      consequents  antecedent support  consequent support   support  confidence      lift  leverage  conviction\n",
       "1068  (PACK OF 6 SKULL PAPER PLATES, SET/6 RED SPOTT...  (SET/6 RED SPOTTY PAPER PLATES)            0.033163            0.127551  0.033163         1.0  7.840000  0.028933         inf\n",
       "1099  (PACK OF 6 SKULL PAPER CUPS, PACK OF 6 SKULL P...  (SET/6 RED SPOTTY PAPER PLATES)            0.030612            0.127551  0.030612         1.0  7.840000  0.026708         inf\n",
       "987   (PACK OF 6 SKULL PAPER PLATES, SET/6 RED SPOTT...    (SET/6 RED SPOTTY PAPER CUPS)            0.035714            0.137755  0.035714         1.0  7.259259  0.030794         inf\n",
       "886   (MINI PAINT SET VINTAGE, SET/6 RED SPOTTY PAPE...  (SET/6 RED SPOTTY PAPER PLATES)            0.035714            0.127551  0.035714         1.0  7.840000  0.031159         inf\n",
       "765   (PACK OF 6 SKULL PAPER CUPS, SET/6 RED SPOTTY ...    (SET/6 RED SPOTTY PAPER CUPS)            0.038265            0.137755  0.038265         1.0  7.259259  0.032994         inf"
      ]
     },
     "execution_count": 13,
     "metadata": {},
     "output_type": "execute_result"
    }
   ],
   "source": [
    "rules = association_rules(frequent_itemsets, metric=\"lift\", min_threshold=1)\n",
    "rules.sort_values(by=\"conviction\",ascending=False).head()"
   ]
  },
  {
   "cell_type": "markdown",
   "metadata": {},
   "source": [
    "## Visualizing some simple rules."
   ]
  },
  {
   "cell_type": "code",
   "execution_count": null,
   "metadata": {},
   "outputs": [],
   "source": [
    "import pyvis"
   ]
  },
  {
   "cell_type": "code",
   "execution_count": null,
   "metadata": {},
   "outputs": [],
   "source": [
    "rules.sort_values(by=\"support\",ascending=False,inplace=True)\n",
    "rules.reset_index(inplace=True,drop=True)"
   ]
  },
  {
   "cell_type": "code",
   "execution_count": null,
   "metadata": {},
   "outputs": [],
   "source": [
    "rules.head()\n",
    "rules.shape\n",
    "type(rules)\n"
   ]
  },
  {
   "cell_type": "code",
   "execution_count": null,
   "metadata": {},
   "outputs": [],
   "source": [
    "#Lets shorten the names, so they fit in our nodes better. Really, we just want to see what our network looks like.\n",
    "\n",
    "def strends(x):\n",
    "    for y in x: #Frozensets...a weird artifiact from our Apriori Algorithms. OK.\n",
    "        thestr = y\n",
    "    return thestr\n",
    "    #return thestr[0:6] + thestr[(len(x) - 6):]\n",
    "    \n",
    "\n",
    "rules[\"antecedents\"] = rules[\"antecedents\"].apply(strends)\n",
    "rules[\"consequents\"] = rules[\"consequents\"].apply(strends)\n",
    "\n",
    "\n",
    "\n",
    "\n",
    "\n",
    "\n"
   ]
  },
  {
   "cell_type": "code",
   "execution_count": null,
   "metadata": {},
   "outputs": [],
   "source": [
    "#Lets get a set of all antecedents and consqeuents.\n",
    "aCSet = {-1}\n",
    "\n",
    "hold = rules[\"antecedents\"].apply(lambda x: aCSet.add(x))\n",
    "hold = rules[\"consequents\"].apply(lambda x: aCSet.add(x))\n",
    "aCSet.remove(-1)\n",
    "\n",
    "#aCSet\n"
   ]
  },
  {
   "cell_type": "code",
   "execution_count": null,
   "metadata": {},
   "outputs": [],
   "source": [
    "#With this set, we can make a graph now!\n",
    "from pyvis.network import Network\n",
    "net = Network()\n",
    "nodeDict = {}\n",
    "\n",
    "for i,item in enumerate(aCSet):\n",
    "    net.add_node(i, label=item) \n",
    "    nodeDict[item] = i\n"
   ]
  },
  {
   "cell_type": "code",
   "execution_count": null,
   "metadata": {},
   "outputs": [],
   "source": [
    "#finally, lets add the edges to the network, and use the confidence score as network weight.\n",
    "for index, row in rules.iterrows():\n",
    "    net.add_edge(nodeDict[row[\"antecedents\"]],nodeDict[row[\"consequents\"]],weight=row[\"confidence\"])"
   ]
  },
  {
   "cell_type": "code",
   "execution_count": null,
   "metadata": {},
   "outputs": [],
   "source": [
    "net.show(\"mygraph.html\")"
   ]
  },
  {
   "cell_type": "code",
   "execution_count": null,
   "metadata": {},
   "outputs": [],
   "source": []
  }
 ],
 "metadata": {
  "kernelspec": {
   "display_name": "Python 3",
   "language": "python",
   "name": "python3"
  },
  "language_info": {
   "codemirror_mode": {
    "name": "ipython",
    "version": 3
   },
   "file_extension": ".py",
   "mimetype": "text/x-python",
   "name": "python",
   "nbconvert_exporter": "python",
   "pygments_lexer": "ipython3",
   "version": "3.7.2"
  }
 },
 "nbformat": 4,
 "nbformat_minor": 2
}
